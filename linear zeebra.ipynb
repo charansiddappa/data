{
 "cells": [
  {
   "cell_type": "code",
   "execution_count": 1,
   "id": "957eb660-e54f-48bf-8e34-842a1bcb70a7",
   "metadata": {},
   "outputs": [
    {
     "name": "stdout",
     "output_type": "stream",
     "text": [
      "Scalar: 5\n"
     ]
    }
   ],
   "source": [
    "import numpy as np\n",
    "\n",
    "scalar = 5\n",
    "print(f\"Scalar: {scalar}\")"
   ]
  },
  {
   "cell_type": "code",
   "execution_count": 3,
   "id": "e629b0b7-9499-4ddf-98ce-59cc005cba8a",
   "metadata": {},
   "outputs": [
    {
     "name": "stdout",
     "output_type": "stream",
     "text": [
      "Matrix:\n",
      "[[1 2 3]\n",
      " [4 5 6]\n",
      " [7 8 9]]\n"
     ]
    }
   ],
   "source": [
    "matrix = np.array([[1, 2, 3], [4, 5, 6], [7, 8, 9]])\n",
    "print(f\"Matrix:\\n{matrix}\")"
   ]
  },
  {
   "cell_type": "code",
   "execution_count": 5,
   "id": "1c8015ba-a760-431c-b959-9844e8da7363",
   "metadata": {},
   "outputs": [
    {
     "name": "stdout",
     "output_type": "stream",
     "text": [
      "Gradient at each point:\n",
      "[-17.7979798  -17.5959596  -17.19191919 -16.78787879 -16.38383838\n",
      " -15.97979798 -15.57575758 -15.17171717 -14.76767677 -14.36363636\n",
      " -13.95959596 -13.55555556 -13.15151515 -12.74747475 -12.34343434\n",
      " -11.93939394 -11.53535354 -11.13131313 -10.72727273 -10.32323232\n",
      "  -9.91919192  -9.51515152  -9.11111111  -8.70707071  -8.3030303\n",
      "  -7.8989899   -7.49494949  -7.09090909  -6.68686869  -6.28282828\n",
      "  -5.87878788  -5.47474747  -5.07070707  -4.66666667  -4.26262626\n",
      "  -3.85858586  -3.45454545  -3.05050505  -2.64646465  -2.24242424\n",
      "  -1.83838384  -1.43434343  -1.03030303  -0.62626263  -0.22222222\n",
      "   0.18181818   0.58585859   0.98989899   1.39393939   1.7979798\n",
      "   2.2020202    2.60606061   3.01010101   3.41414141   3.81818182\n",
      "   4.22222222   4.62626263   5.03030303   5.43434343   5.83838384\n",
      "   6.24242424   6.64646465   7.05050505   7.45454545   7.85858586\n",
      "   8.26262626   8.66666667   9.07070707   9.47474747   9.87878788\n",
      "  10.28282828  10.68686869  11.09090909  11.49494949  11.8989899\n",
      "  12.3030303   12.70707071  13.11111111  13.51515152  13.91919192\n",
      "  14.32323232  14.72727273  15.13131313  15.53535354  15.93939394\n",
      "  16.34343434  16.74747475  17.15151515  17.55555556  17.95959596\n",
      "  18.36363636  18.76767677  19.17171717  19.57575758  19.97979798\n",
      "  20.38383838  20.78787879  21.19191919  21.5959596   21.7979798 ]\n"
     ]
    }
   ],
   "source": [
    "def function(x):\n",
    "    return x**2 + 2*x + 1\n",
    "\n",
    "x = np.linspace(-10, 10, 100)\n",
    "y = function(x)\n",
    "gradient = np.gradient(y, x)\n",
    "\n",
    "print(f\"Gradient at each point:\\n{gradient}\")"
   ]
  },
  {
   "cell_type": "code",
   "execution_count": 7,
   "id": "64738a26-8dcd-4226-aec5-40c1ea42a53f",
   "metadata": {},
   "outputs": [
    {
     "name": "stdout",
     "output_type": "stream",
     "text": [
      "Vector: [1 2 3]\n"
     ]
    }
   ],
   "source": [
    "vector = np.array([1, 2, 3])\n",
    "print(f\"Vector: {vector}\")"
   ]
  },
  {
   "cell_type": "code",
   "execution_count": 9,
   "id": "7c0796af-231d-46df-898e-a90e6ba42674",
   "metadata": {},
   "outputs": [
    {
     "name": "stdout",
     "output_type": "stream",
     "text": [
      "Tensor:\n",
      "[[[1 2]\n",
      "  [3 4]]\n",
      "\n",
      " [[5 6]\n",
      "  [7 8]]]\n"
     ]
    }
   ],
   "source": [
    "tensor = np.array([[[1, 2], [3, 4]], [[5, 6], [7, 8]]])\n",
    "print(f\"Tensor:\\n{tensor}\")"
   ]
  },
  {
   "cell_type": "code",
   "execution_count": 15,
   "id": "13777a4f-06ff-4d2a-bc0c-37165e504873",
   "metadata": {},
   "outputs": [
    {
     "name": "stdout",
     "output_type": "stream",
     "text": [
      "Eigenvalues: [3. 2.]\n",
      "Eigenvectors:\n",
      "[[0.89442719 0.70710678]\n",
      " [0.4472136  0.70710678]]\n"
     ]
    }
   ],
   "source": [
    "matrix = np.array([[4, -2], [1, 1]])\n",
    "eigenvalues, eigenvectors = np.linalg.eig(matrix)\n",
    "\n",
    "print(f\"Eigenvalues: {eigenvalues}\")\n",
    "print(f\"Eigenvectors:\\n{eigenvectors}\")"
   ]
  },
  {
   "cell_type": "code",
   "execution_count": 17,
   "id": "7a434695-d967-4129-b790-99eea5f216de",
   "metadata": {},
   "outputs": [
    {
     "name": "stdout",
     "output_type": "stream",
     "text": [
      "Vector Norm: 3.7416573867739413\n",
      "Matrix Norm: 5.477225575051661\n",
      "Eigenvalues: [-0.37228132  5.37228132]\n",
      "Eigenvectors:\n",
      "[[-0.82456484 -0.41597356]\n",
      " [ 0.56576746 -0.90937671]]\n"
     ]
    }
   ],
   "source": [
    "# Norms\n",
    "vector = np.array([1, 2, 3])\n",
    "matrix = np.array([[1, 2], [3, 4]])\n",
    "\n",
    "vector_norm = np.linalg.norm(vector)\n",
    "matrix_norm = np.linalg.norm(matrix)\n",
    "\n",
    "print(f\"Vector Norm: {vector_norm}\")\n",
    "print(f\"Matrix Norm: {matrix_norm}\")\n",
    "\n",
    "# Eigen Decomposition\n",
    "eigenvalues, eigenvectors = np.linalg.eig(matrix)\n",
    "\n",
    "print(f\"Eigenvalues: {eigenvalues}\")\n",
    "print(f\"Eigenvectors:\\n{eigenvectors}\")"
   ]
  },
  {
   "cell_type": "code",
   "execution_count": null,
   "id": "59c94c9c-b07f-469c-9bd8-df495517a82b",
   "metadata": {},
   "outputs": [],
   "source": []
  }
 ],
 "metadata": {
  "kernelspec": {
   "display_name": "Python 3 (ipykernel)",
   "language": "python",
   "name": "python3"
  },
  "language_info": {
   "codemirror_mode": {
    "name": "ipython",
    "version": 3
   },
   "file_extension": ".py",
   "mimetype": "text/x-python",
   "name": "python",
   "nbconvert_exporter": "python",
   "pygments_lexer": "ipython3",
   "version": "3.12.4"
  }
 },
 "nbformat": 4,
 "nbformat_minor": 5
}
